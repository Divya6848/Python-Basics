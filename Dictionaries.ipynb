{
 "cells": [
  {
   "cell_type": "code",
   "execution_count": 1,
   "id": "a52383fb-686e-4c5a-9624-6230d4f1743c",
   "metadata": {},
   "outputs": [
    {
     "name": "stdout",
     "output_type": "stream",
     "text": [
      "{'microsoft': 'Datascience', 'employees': 70000, 'location': 'gachibowli'}\n",
      "{'microsoft': 'Datascience', 'employees': 80000, 'branches': ['hyderabad', 'banglore', 'chennai']}\n"
     ]
    }
   ],
   "source": [
    "#creating dictionries\n",
    "company = {\"microsoft\" : \"Datascience\", \"employees\" :  70000 , \"location\" : \"gachibowli\"}\n",
    "print(company)\n",
    "\n",
    "#mixed_dictionaries\n",
    "company = {\"microsoft\" : \"Datascience\", \"employees\" : 80000 , \"branches\" : [\"hyderabad\", \"banglore\",\"chennai\"]}\n",
    "print(company)"
   ]
  },
  {
   "cell_type": "code",
   "execution_count": 2,
   "id": "dcf4ea06-0007-4242-9dbf-651c51508515",
   "metadata": {},
   "outputs": [
    {
     "name": "stdout",
     "output_type": "stream",
     "text": [
      "21\n",
      "sree\n",
      "['A+', 'B', 'c']\n",
      "{'name': 'AlluArjun', 'age': 44, 'movie': 'Pushpa'}\n",
      "{'name': 'AlluArjun', 'age': 44, 'movie': 'Pushpa', 'gender': 'Male', 'role': 'Hero'}\n"
     ]
    }
   ],
   "source": [
    "#Accessing Values  #Dict with key pair\n",
    "dict = {\"name\" : \"Divya\", \"age\" : 21 , \"grade\" : \"A+\", }\n",
    "print(dict[\"age\"])\n",
    "dict1 = {\"name\" : \"Divya\", \"age\" : 21 , \"grade\" : \"A+\", \"name\" : \"sree\" }\n",
    "print(dict1[\"name\"])\n",
    "mixed_dict = {\"name\" : \"Divya\", \"age\" : 21 , \"grade\" : [\"A+\", \"B\", \"c\"]}\n",
    "print(mixed_dict[\"grade\"])\n",
    "\n",
    "#Modifying dictionaries\n",
    "actor = {\"name\" : \"AlluArjun\" ,\"age\" : 44, \"movie\" : \"Arya\"}\n",
    "actor[\"movie\"]= \"Pushpa\"\n",
    "print(actor)\n",
    "\n",
    "#Adding dictionaries\n",
    "actor[\"gender\"] = \"Male\"\n",
    "actor[\"role\"] = \"Hero\"\n",
    "print(actor)"
   ]
  },
  {
   "cell_type": "code",
   "execution_count": 3,
   "id": "f8250963-f51d-43c3-aed0-5725b96d8e81",
   "metadata": {},
   "outputs": [
    {
     "name": "stdout",
     "output_type": "stream",
     "text": [
      "Web developer\n",
      "not specified\n",
      "not mentioned\n",
      "dict_keys(['name', 'employees', 'role', 'location'])\n",
      "dict_values(['Infosys', 44000, 'Web developer', 'Hyderabad'])\n",
      "dict_items([('name', 'Infosys'), ('employees', 44000), ('role', 'Web developer'), ('location', 'Hyderabad')])\n",
      "AlluArjun\n",
      "{'age': 44, 'movie': ['Pushpa', 'Arya', 'DJ']}\n",
      "('movie', ['Pushpa', 'Arya', 'DJ'])\n",
      "{'age': 44, 'name': 'Mahesh', 'movie': ['Guntukaram', 'Maharshi']}\n"
     ]
    }
   ],
   "source": [
    "#Dictionary Methods\n",
    "#get()\n",
    "companies = {\"name\" : \"Infosys\" ,\"employees\" : 44000 , \"role\" : \"Web developer\", \"location\" : \"Hyderabad\"}\n",
    "role = companies.get(\"role\")\n",
    "print(role)\n",
    "num = actor.get(\"salary\", \"not specified\")\n",
    "print(num)\n",
    "profession = actor.get(\"location\", \"not mentioned\")\n",
    "print(profession)\n",
    "\n",
    "#keys()\n",
    "set = companies.keys()\n",
    "print(set)\n",
    "\n",
    "#values()\n",
    "set = companies.values()\n",
    "print(set)\n",
    "\n",
    "#items()\n",
    "item = companies.items()\n",
    "print(item)\n",
    "\n",
    "#pop()\n",
    "actor_dict = {\"name\" : \"AlluArjun\" ,\"age\" : 44, \"movie\" : [\"Pushpa\", \"Arya\", \"DJ\"]}\n",
    "film = actor_dict.pop(\"name\")\n",
    "print(film)\n",
    "print(actor_dict)\n",
    "\n",
    "#popitems()\n",
    "last_item = actor_dict.popitem()\n",
    "print(last_item)\n",
    "\n",
    "#update()\n",
    "new_data = {\"name\": \"Mahesh\", \"movie\" : [\"Guntukaram\", \"Maharshi\"]}\n",
    "actor_dict.update(new_data)\n",
    "print(actor_dict)\n"
   ]
  },
  {
   "cell_type": "code",
   "execution_count": null,
   "id": "cf18186d-7761-442f-a90b-078263811e89",
   "metadata": {},
   "outputs": [],
   "source": []
  }
 ],
 "metadata": {
  "kernelspec": {
   "display_name": "Python 3 (ipykernel)",
   "language": "python",
   "name": "python3"
  },
  "language_info": {
   "codemirror_mode": {
    "name": "ipython",
    "version": 3
   },
   "file_extension": ".py",
   "mimetype": "text/x-python",
   "name": "python",
   "nbconvert_exporter": "python",
   "pygments_lexer": "ipython3",
   "version": "3.12.4"
  }
 },
 "nbformat": 4,
 "nbformat_minor": 5
}
