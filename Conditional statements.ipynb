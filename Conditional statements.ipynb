{
 "cells": [
  {
   "cell_type": "code",
   "execution_count": 1,
   "id": "d8c0a6d9-d879-40df-972b-2d3a9f89ec0d",
   "metadata": {},
   "outputs": [
    {
     "name": "stdout",
     "output_type": "stream",
     "text": [
      "Number is positive\n",
      "Kalki is a movie\n",
      "Negative number\n",
      "NTR acted in RRR movie\n",
      "Zero\n",
      "java is complex\n"
     ]
    }
   ],
   "source": [
    "#Condition Statements\n",
    "#if statement:\n",
    "num = 29\n",
    "if num > 0:\n",
    "    print(\"Number is positive\")\n",
    "    \n",
    "movie = \"Kalki\"\n",
    "if movie == \"Kalki\":\n",
    "    print(\"Kalki is a movie\")\n",
    "\n",
    "#else statement:\n",
    "num = -29\n",
    "if num > 0:\n",
    "    print(\"Positive number\")\n",
    "else:\n",
    "    print(\"Negative number\")\n",
    "    \n",
    "name = \"NTR\"\n",
    "if name == \"NTR\":\n",
    "    print(\"NTR acted in RRR movie\")\n",
    "else:\n",
    "    print(\"Not acted in RRR movie\")\n",
    "\n",
    "#elif statement\n",
    "num = 0\n",
    "if num > 0:\n",
    "    print(\"Positive number\")\n",
    "elif num < 0:\n",
    "    print(\"Negative number\")\n",
    "else:\n",
    "    print(\"Zero\")\n",
    "\n",
    "language = \"java\"\n",
    "if language == \"python\":\n",
    "    print(\"python is easy\")\n",
    "elif language == \"java\":\n",
    "    print(\"java is complex\")\n",
    "else:\n",
    "    print(\"language is something else\")\n",
    "\n"
   ]
  },
  {
   "cell_type": "code",
   "execution_count": 16,
   "id": "a1379ed5-7c7b-46ca-81ba-3e2cd9f27832",
   "metadata": {},
   "outputs": [
    {
     "name": "stdout",
     "output_type": "stream",
     "text": [
      "7\n",
      "6\n",
      "5\n",
      "4\n",
      "3\n",
      "2\n",
      "1\n",
      "D\n",
      "e\n",
      "v\n",
      "e\n",
      "l\n",
      "o\n",
      "p\n",
      "m\n",
      "e\n",
      "n\n",
      "t\n",
      "white\n",
      "black\n",
      "yellow\n",
      "red\n",
      "green\n",
      "90\n",
      "91\n",
      "92\n",
      "93\n",
      "94\n",
      "95\n",
      "96\n",
      "97\n",
      "98\n",
      "seeta works at microsoft\n",
      "geeta works at wipro\n",
      "preeti works at tcs\n",
      "The double of 10 is 20\n",
      "The double of 20 is 40\n",
      "The double of 30 is 60\n",
      "The double of 40 is 80\n",
      "The double of 50 is 100\n"
     ]
    }
   ],
   "source": [
    "#Loop Statements\n",
    "#While loop:\n",
    "num = 7\n",
    "while num > 0:\n",
    "    print(num)\n",
    "    num = num - 1\n",
    "\n",
    "#for loop:\n",
    "stream = \"Development\"\n",
    "for n in stream:\n",
    "    print(n)\n",
    "\n",
    "#iterate over a list\n",
    "colors = [\"white\", \"black\", \"yellow\", \"red\", \"green\"]\n",
    "for color in colors:\n",
    "    print(color)\n",
    "#iterate over a range\n",
    "for score in range (90,99):\n",
    "    print(score)\n",
    "#iterate over a dictionary:\n",
    "employee_company = {\"seeta\":\"microsoft\", \"geeta\":\"wipro\", \"preeti\":\"tcs\"}\n",
    "for name, company in employee_company.items():\n",
    "    print(f\"{name} works at {company}\")\n",
    "#iterate over a tuple:\n",
    "score = (10,20,30,40,50)\n",
    "for num in score:\n",
    "    doubled_num = num * 2\n",
    "    print(f\"The double of {num} is {doubled_num}\")"
   ]
  },
  {
   "cell_type": "code",
   "execution_count": 3,
   "id": "3ba29289-5ab2-4a67-9f89-c4b986acd1c2",
   "metadata": {},
   "outputs": [
    {
     "name": "stdout",
     "output_type": "stream",
     "text": [
      "0\n",
      "1\n",
      "2\n",
      "4\n",
      "5\n",
      "6\n",
      "0\n",
      "1\n",
      "2\n",
      "0\n",
      "1\n",
      "2\n",
      "4\n",
      "5\n",
      "6\n"
     ]
    }
   ],
   "source": [
    "#Control Statements\n",
    "#pass:\n",
    "for a in range(7):\n",
    "    if a == 3:\n",
    "        pass\n",
    "    else:\n",
    "        print(a)\n",
    "\n",
    "#break:\n",
    "for a in range(7):\n",
    "    if a == 3:\n",
    "        break\n",
    "    else:\n",
    "        print(a)\n",
    "\n",
    "#continue:\n",
    "for a in range(7):\n",
    "    if a == 3:\n",
    "        continue\n",
    "    else:\n",
    "        print(a)\n"
   ]
  },
  {
   "cell_type": "code",
   "execution_count": 4,
   "id": "b1694400-2dd5-495f-be7c-cc0f8f3076f5",
   "metadata": {},
   "outputs": [
    {
     "name": "stdin",
     "output_type": "stream",
     "text": [
      "Enter a number: 45\n"
     ]
    },
    {
     "name": "stdout",
     "output_type": "stream",
     "text": [
      "Odd number\n"
     ]
    }
   ],
   "source": [
    "#program to print Even number or Odd number:\n",
    "number = int(input(\"Enter a number:\"))\n",
    "if number % 2 == 0:\n",
    "    print(\"Even number\")\n",
    "else:\n",
    "    print(\"Odd number\")\n"
   ]
  },
  {
   "cell_type": "code",
   "execution_count": 5,
   "id": "1d36558a-53ab-4b0b-91ca-3efe665a5344",
   "metadata": {},
   "outputs": [
    {
     "name": "stdin",
     "output_type": "stream",
     "text": [
      "Enter first number:  30.57\n",
      "Enter second number:  999\n",
      "Enter third number:  48\n"
     ]
    },
    {
     "name": "stdout",
     "output_type": "stream",
     "text": [
      "The maximum number is: 999.0\n"
     ]
    }
   ],
   "source": [
    "#program to find maximum value among 3 digits:\n",
    "number1 = float(input(\"Enter first number: \"))\n",
    "number2 = float(input(\"Enter second number: \"))\n",
    "number3 = float(input(\"Enter third number: \"))\n",
    "max_value = max(number1, number2, number3)\n",
    "print(\"The maximum number is:\",max_value)\n"
   ]
  },
  {
   "cell_type": "code",
   "execution_count": 6,
   "id": "bb4b5407-29e6-405a-a1fd-1134c04714f6",
   "metadata": {},
   "outputs": [
    {
     "name": "stdin",
     "output_type": "stream",
     "text": [
      "Enter first number:  49\n",
      "Enter second number:  77.77\n",
      "Enter third number:  4\n"
     ]
    },
    {
     "name": "stdout",
     "output_type": "stream",
     "text": [
      "The minimum number is: 4.0\n"
     ]
    }
   ],
   "source": [
    "#program to find minimum value among 3 digits:\n",
    "number1 = float(input(\"Enter first number: \"))\n",
    "number2 = float(input(\"Enter second number: \"))\n",
    "number3 = float(input(\"Enter third number: \"))\n",
    "min_value = min(number1, number2, number3)\n",
    "print(\"The minimum number is:\",min_value)"
   ]
  },
  {
   "cell_type": "code",
   "execution_count": 7,
   "id": "900806bc-81f1-4fa3-93f2-c2dead88c6f4",
   "metadata": {},
   "outputs": [
    {
     "name": "stdin",
     "output_type": "stream",
     "text": [
      "Enter the marks: 78\n"
     ]
    },
    {
     "name": "stdout",
     "output_type": "stream",
     "text": [
      "The grade is: B\n"
     ]
    }
   ],
   "source": [
    "#program for grading system:\n",
    "student_marks = float(input(\"Enter the marks:\"))\n",
    "if student_marks >= 90:\n",
    "    grade = \"A\"\n",
    "elif student_marks >= 80:\n",
    "    grade = \"A+\"\n",
    "elif student_marks >= 70:\n",
    "    grade = \"B\"\n",
    "elif student_marks >= 60:\n",
    "    grade = \"B+\"\n",
    "elif student_marks >= 50:\n",
    "    grade = \"C\"\n",
    "elif student_marks >= 40:\n",
    "    grade = \"C+\"\n",
    "elif student_marks >= 30:\n",
    "    grade = \"D\"\n",
    "else:\n",
    "    grade = \"F\"\n",
    "print(\"The grade is:\", grade)\n"
   ]
  },
  {
   "cell_type": "code",
   "execution_count": null,
   "id": "ff0d60f2-536e-46c5-a569-830f38907f86",
   "metadata": {},
   "outputs": [],
   "source": []
  }
 ],
 "metadata": {
  "kernelspec": {
   "display_name": "Python 3 (ipykernel)",
   "language": "python",
   "name": "python3"
  },
  "language_info": {
   "codemirror_mode": {
    "name": "ipython",
    "version": 3
   },
   "file_extension": ".py",
   "mimetype": "text/x-python",
   "name": "python",
   "nbconvert_exporter": "python",
   "pygments_lexer": "ipython3",
   "version": "3.12.4"
  }
 },
 "nbformat": 4,
 "nbformat_minor": 5
}
