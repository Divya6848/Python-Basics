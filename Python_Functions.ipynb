{
 "cells": [
  {
   "cell_type": "code",
   "execution_count": 1,
   "id": "b4b52f53-53a2-417f-a459-4ca9ba7755ba",
   "metadata": {},
   "outputs": [
    {
     "name": "stdout",
     "output_type": "stream",
     "text": [
      "Divya sree\n",
      "Divya, Thouti\n",
      "1.4\n",
      "1.4\n",
      "36\n"
     ]
    }
   ],
   "source": [
    "#declare and calling a function\n",
    "def name():\n",
    "    print(\"Divya sree\")\n",
    "name()\n",
    "\n",
    "def full_name(surname):\n",
    "    print(f\"Divya, {surname}\")\n",
    "full_name(\"Thouti\")\n",
    "\n",
    "#Arguments \n",
    "def div_num(x, y):\n",
    "    sum = x / y\n",
    "    print(sum)\n",
    "\n",
    "div_num(7, 5)\n",
    "\n",
    "#return statement\n",
    "def div_num(x, y):\n",
    "    sum = x / y\n",
    "    return sum\n",
    "\n",
    "print(div_num(7, 5))\n",
    "\n",
    "#python lambda\n",
    "\n",
    "square = lambda a : a * a\n",
    "print(square(6))"
   ]
  },
  {
   "cell_type": "code",
   "execution_count": 2,
   "id": "6b03cd5d-5dcd-4dfa-a30f-b8c645b40d01",
   "metadata": {},
   "outputs": [
    {
     "name": "stdout",
     "output_type": "stream",
     "text": [
      "66 Even number\n"
     ]
    }
   ],
   "source": [
    "#1.check even or odd number using functions\n",
    "def check_number(num):\n",
    "    if num % 2 == 0:\n",
    "        print(num, \"Even number\")\n",
    "    else:\n",
    "        print(num, \"Odd number\")\n",
    "check_number(66)\n"
   ]
  },
  {
   "cell_type": "code",
   "execution_count": 3,
   "id": "9d15e3f3-87ee-401a-9c37-29b1a43c1c6b",
   "metadata": {},
   "outputs": [
    {
     "name": "stdout",
     "output_type": "stream",
     "text": [
      "maximum number is: 9356.35\n"
     ]
    }
   ],
   "source": [
    "#print maximum number using functions\n",
    "def max_num(num1, num2, num3):\n",
    "    if num1>num2 and num1>num3:\n",
    "        print(\"maximum number is:\",num1)\n",
    "    elif num2>num1 and num2>num3:\n",
    "        print(\"maximum number is:\",num2)\n",
    "    else:\n",
    "        print(\"maximum number is:\",num3)\n",
    "max_num(9356.35, 48, 3488)"
   ]
  },
  {
   "cell_type": "code",
   "execution_count": 4,
   "id": "4cc0765b-164c-4715-9fef-0439f657c9d5",
   "metadata": {},
   "outputs": [
    {
     "name": "stdout",
     "output_type": "stream",
     "text": [
      "minimum number is: 48\n"
     ]
    }
   ],
   "source": [
    "#print minimum number using functions\n",
    "def min_num(num1, num2, num3):\n",
    "    if num1<num2 and num1<num3:\n",
    "        print(\"minimum number is:\",num1)\n",
    "    elif num2<num1 and num2<num3:\n",
    "        print(\"minimum number is:\",num2)\n",
    "    else:\n",
    "        print(\"minimum number is:\",num3)\n",
    "min_num(9356.35, 48, 3488)"
   ]
  },
  {
   "cell_type": "code",
   "execution_count": 5,
   "id": "f3b3e063-e20f-4588-9fbd-97483d5cef4e",
   "metadata": {
    "scrolled": true
   },
   "outputs": [
    {
     "name": "stdout",
     "output_type": "stream",
     "text": [
      "B\n"
     ]
    }
   ],
   "source": [
    "#program for grading system using functions\n",
    "def grade_of(student):\n",
    "    if student >= 90:\n",
    "        grade = \"A\"\n",
    "    elif student >= 80:\n",
    "        grade = \"B\"\n",
    "    elif student >= 70:\n",
    "        grade = \"C\"\n",
    "    elif student >= 60:\n",
    "        grade = \"D\"\n",
    "    elif student >= 50:\n",
    "        grade = \"E\"\n",
    "    elif student >= 40:\n",
    "        grade = \"F\"\n",
    "    else:\n",
    "        grade = \"F\"\n",
    "    return grade\n",
    "        \n",
    "print(grade_of(88.8))"
   ]
  },
  {
   "cell_type": "code",
   "execution_count": null,
   "id": "95861414-980e-48b6-bc48-bf18c6e92061",
   "metadata": {},
   "outputs": [],
   "source": []
  }
 ],
 "metadata": {
  "kernelspec": {
   "display_name": "Python 3 (ipykernel)",
   "language": "python",
   "name": "python3"
  },
  "language_info": {
   "codemirror_mode": {
    "name": "ipython",
    "version": 3
   },
   "file_extension": ".py",
   "mimetype": "text/x-python",
   "name": "python",
   "nbconvert_exporter": "python",
   "pygments_lexer": "ipython3",
   "version": "3.12.4"
  }
 },
 "nbformat": 4,
 "nbformat_minor": 5
}
