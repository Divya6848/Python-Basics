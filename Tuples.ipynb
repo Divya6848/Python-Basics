{
 "cells": [
  {
   "cell_type": "code",
   "execution_count": 1,
   "id": "3d15d24c-e2f5-4102-a140-8606e8821d4f",
   "metadata": {},
   "outputs": [
    {
     "name": "stdout",
     "output_type": "stream",
     "text": [
      "(55,)\n",
      "<class 'tuple'>\n"
     ]
    }
   ],
   "source": [
    "#python tuples\n",
    "my_tuple=(1, \"divya\",44 ,\"part\")\n",
    "\n",
    "#single value in tuple\n",
    "single_element_tuple = (55,)\n",
    "print(single_element_tuple)\n",
    "print(type(single_element_tuple))"
   ]
  },
  {
   "cell_type": "code",
   "execution_count": 2,
   "id": "cb29b247-412b-4320-a751-d0bca286e530",
   "metadata": {},
   "outputs": [
    {
     "name": "stdout",
     "output_type": "stream",
     "text": [
      "diya\n",
      "dance\n"
     ]
    },
    {
     "data": {
      "text/plain": [
       "(56, '8gt650', 'dance')"
      ]
     },
     "execution_count": 2,
     "metadata": {},
     "output_type": "execute_result"
    }
   ],
   "source": [
    "#accessing tuples\n",
    "my_tuple1 = (\"diya\",56,\"8gt650\",\"dance\",66)\n",
    "print(my_tuple1[0])\n",
    "print(my_tuple1[-2])\n",
    "my_tuple1[1:4]"
   ]
  },
  {
   "cell_type": "code",
   "execution_count": 3,
   "id": "d9bba895-655b-40e2-a14c-74dca0b27354",
   "metadata": {},
   "outputs": [
    {
     "name": "stdout",
     "output_type": "stream",
     "text": [
      "('cricket', 'carrom', 'football', 'tennis', 48, 36, 97, 3, 9, 54, 4877, 567, 23333)\n",
      "('cricket', 'carrom', 'football', 'tennis', 'cricket', 'carrom', 'football', 'tennis', 'cricket', 'carrom', 'football', 'tennis', 'cricket', 'carrom', 'football', 'tennis', 'cricket', 'carrom', 'football', 'tennis', 'cricket', 'carrom', 'football', 'tennis', 'cricket', 'carrom', 'football', 'tennis', 'cricket', 'carrom', 'football', 'tennis', 'cricket', 'carrom', 'football', 'tennis')\n",
      "(48, 36, 97, 3, 9, 54, 4877, 567, 23333, 48, 36, 97, 3, 9, 54, 4877, 567, 23333, 48, 36, 97, 3, 9, 54, 4877, 567, 23333, 48, 36, 97, 3, 9, 54, 4877, 567, 23333, 48, 36, 97, 3, 9, 54, 4877, 567, 23333, 48, 36, 97, 3, 9, 54, 4877, 567, 23333, 48, 36, 97, 3, 9, 54, 4877, 567, 23333, 48, 36, 97, 3, 9, 54, 4877, 567, 23333, 48, 36, 97, 3, 9, 54, 4877, 567, 23333, 48, 36, 97, 3, 9, 54, 4877, 567, 23333, 48, 36, 97, 3, 9, 54, 4877, 567, 23333, 48, 36, 97, 3, 9, 54, 4877, 567, 23333)\n"
     ]
    }
   ],
   "source": [
    "#Tuple operations\n",
    "#concatenation\n",
    "tuple_1=(\"cricket\",\"carrom\",\"football\",\"tennis\")\n",
    "tuple_2=(48, 36, 97, 3, 9, 54, 4877, 567, 23333)\n",
    "print(tuple_1 + tuple_2)\n",
    "\n",
    "#repetition\n",
    "print(tuple_1 * 9)\n",
    "print(tuple_2 * 12)"
   ]
  },
  {
   "cell_type": "code",
   "execution_count": 4,
   "id": "806ef39f-0eff-42b8-84dc-bc31e75f9d79",
   "metadata": {},
   "outputs": [
    {
     "name": "stdout",
     "output_type": "stream",
     "text": [
      "2\n",
      "4\n",
      "[1, 2, 4, 76, 85, 568, 999, 48876]\n",
      "8\n",
      "('design', 'dance', 499, 87)\n",
      "5672\n",
      "1\n"
     ]
    }
   ],
   "source": [
    "#tuple methods\n",
    "#1.count()\n",
    "my_sport =(\"cricket\",\"carrom\",\"tennis\",\"cricket\",\"football\",\"hockey\")\n",
    "print(my_sport.count(\"cricket\"))\n",
    "\n",
    "#2.index()\n",
    "my_sport=(\"cricket\",\"carrom\",\"tennis\",\"cricket\",\"football\",\"hockey\")\n",
    "print(my_sport.index(\"football\"))\n",
    "\n",
    "#3.sorted()\n",
    "game =(85, 76, 4, 48876, 2, 568, 1, 999)\n",
    "sum=sorted(game)\n",
    "print(sum)\n",
    "\n",
    "#4.length()\n",
    "game =(85, 76, 4, 48876, 2, 568, 1, 999)\n",
    "sum1 = len(game)\n",
    "print(sum1)\n",
    "\n",
    "#5.slicing()\n",
    "art = (456, \"music\", \"design\", \"dance\", 499, 87, 9, 3)\n",
    "slice=art[2:6]\n",
    "print(slice)\n",
    "\n",
    "#6.max()\n",
    "values=(5672, 284, 58, 1, 848, 56, 9, 3, 2, 47)\n",
    "print(max(values))\n",
    "\n",
    "#7.min()\n",
    "print(min(values))"
   ]
  },
  {
   "cell_type": "code",
   "execution_count": null,
   "id": "da38d209-c918-4a2d-a403-7cb37cbecca6",
   "metadata": {},
   "outputs": [],
   "source": []
  }
 ],
 "metadata": {
  "kernelspec": {
   "display_name": "Python 3 (ipykernel)",
   "language": "python",
   "name": "python3"
  },
  "language_info": {
   "codemirror_mode": {
    "name": "ipython",
    "version": 3
   },
   "file_extension": ".py",
   "mimetype": "text/x-python",
   "name": "python",
   "nbconvert_exporter": "python",
   "pygments_lexer": "ipython3",
   "version": "3.12.4"
  }
 },
 "nbformat": 4,
 "nbformat_minor": 5
}
