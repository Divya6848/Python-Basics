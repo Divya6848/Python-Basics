{
  "nbformat": 4,
  "nbformat_minor": 0,
  "metadata": {
    "colab": {
      "provenance": []
    },
    "kernelspec": {
      "name": "python3",
      "display_name": "Python 3"
    },
    "language_info": {
      "name": "python"
    }
  },
  "cells": [
    {
      "cell_type": "code",
      "execution_count": null,
      "metadata": {
        "colab": {
          "base_uri": "https://localhost:8080/"
        },
        "id": "wNTtyWXpmAUp",
        "outputId": "14e58dda-fdef-4eee-a873-89e69950a692"
      },
      "outputs": [
        {
          "output_type": "stream",
          "name": "stdout",
          "text": [
            "4\n",
            "7678\n",
            "555\n",
            "1\n",
            "64\n",
            "1\n",
            "345\n",
            "7678\n",
            "8753\n",
            "-30000\n"
          ]
        }
      ],
      "source": [
        "#int\n",
        "D = 4\n",
        "i = 100000\n",
        "v = 555\n",
        "y = 0o1\n",
        "a = 64\n",
        "s = 1\n",
        "r = 345\n",
        "i = 7678\n",
        "int = 8753\n",
        "float = -30000\n",
        "\n",
        "print(D)\n",
        "print(i)\n",
        "print(v)\n",
        "print(y)\n",
        "print(a)\n",
        "print(s)\n",
        "print(r)\n",
        "print(i)\n",
        "print(int)\n",
        "print(float)"
      ]
    },
    {
      "cell_type": "code",
      "source": [
        "#float\n",
        "D = 5.7\n",
        "i = 8.442\n",
        "v = 69427.0\n",
        "y = 10000.56\n",
        "a = 563.87765\n",
        "s = 0.00\n",
        "r = 299.99999999\n",
        "i = 67.879\n",
        "int = 300000.00\n",
        "complex = 1.0\n",
        "\n",
        "print(D)\n",
        "print(i)\n",
        "print(v)\n",
        "print(y)\n",
        "print(a)\n",
        "print(s)\n",
        "print(r)\n",
        "print(i)\n",
        "print(int)\n",
        "print(complex)"
      ],
      "metadata": {
        "colab": {
          "base_uri": "https://localhost:8080/"
        },
        "id": "F4Nkixy0mKxL",
        "outputId": "433c8ccd-3cce-44f7-f300-407347c13300"
      },
      "execution_count": null,
      "outputs": [
        {
          "output_type": "stream",
          "name": "stdout",
          "text": [
            "5.7\n",
            "67.879\n",
            "69427.0\n",
            "10000.56\n",
            "563.87765\n",
            "0.0\n",
            "299.99999999\n",
            "67.879\n",
            "300000.0\n",
            "1.0\n"
          ]
        }
      ]
    },
    {
      "cell_type": "code",
      "source": [
        "#complex\n",
        "D_ = 8j\n",
        "i = 578j\n",
        "v = 689+39.3j\n",
        "y = 73-65j\n",
        "a = 45j+38j\n",
        "s = 0+570000j\n",
        "r = 3.57+4.2j\n",
        "i = 309+0j\n",
        "num = 86+39j+4j\n",
        "complex = -7455+8874j\n",
        "\n",
        "print(D_)\n",
        "print(i)\n",
        "print(v)\n",
        "print(y)\n",
        "print(a)\n",
        "print(s)\n",
        "print(r)\n",
        "print(i)\n",
        "print(num)\n",
        "print(complex)"
      ],
      "metadata": {
        "colab": {
          "base_uri": "https://localhost:8080/"
        },
        "id": "x1U3sJbhmO63",
        "outputId": "e534e664-3fc2-4751-e200-0f7e0a3bb6ac"
      },
      "execution_count": null,
      "outputs": [
        {
          "output_type": "stream",
          "name": "stdout",
          "text": [
            "8j\n",
            "(309+0j)\n",
            "(689+39.3j)\n",
            "(73-65j)\n",
            "83j\n",
            "570000j\n",
            "(3.57+4.2j)\n",
            "(309+0j)\n",
            "(86+43j)\n",
            "(-7455+8874j)\n"
          ]
        }
      ]
    },
    {
      "cell_type": "code",
      "source": [
        "#type conversion\n",
        "#int to float\n",
        "a = 28\n",
        "d = float(a)\n",
        "b = 9876356\n",
        "i = float(b)\n",
        "c = 2020202020\n",
        "v = float(c)\n",
        "d = -765\n",
        "y = float(d)\n",
        "e = 7533\n",
        "a = float(e)\n",
        "f = 10875\n",
        "s = float(f)\n",
        "g = 98847\n",
        "r = float(g)\n",
        "h = 746+434\n",
        "e = float(h)\n",
        "i = 4458-63\n",
        "e = float(i)\n",
        "j = 7854222\n",
        "z = float(j)\n",
        "print(d)\n",
        "print(i)\n",
        "print(v)\n",
        "print(y)\n",
        "print(a)\n",
        "print(s)\n",
        "print(r)\n",
        "print(e)\n",
        "print(e)\n",
        "print(z)"
      ],
      "metadata": {
        "colab": {
          "base_uri": "https://localhost:8080/"
        },
        "id": "aBDxDDIrmUJk",
        "outputId": "f5728bbe-2c63-43f5-bd32-e5e45ea286ef"
      },
      "execution_count": 1,
      "outputs": [
        {
          "output_type": "stream",
          "name": "stdout",
          "text": [
            "-765\n",
            "4395\n",
            "2020202020.0\n",
            "-765.0\n",
            "7533.0\n",
            "10875.0\n",
            "98847.0\n",
            "4395.0\n",
            "4395.0\n",
            "7854222.0\n"
          ]
        }
      ]
    },
    {
      "cell_type": "code",
      "source": [
        "#float to int\n",
        "a = 7.86\n",
        "d = int(a)\n",
        "b = 10000000.9877\n",
        "i = int(b)\n",
        "c = 98.93746\n",
        "v = int(c)\n",
        "d = 3847.83827\n",
        "y = int(d)\n",
        "e = 9999999.0000\n",
        "a = int(e)\n",
        "f = 973+63.76620\n",
        "s = int(f)\n",
        "g = 983455.08765431\n",
        "r = int(g)\n",
        "h = 746.393+375\n",
        "i = int(h)\n",
        "i = 13097-377.88\n",
        "z = int(i)\n",
        "j = 785.387-386\n",
        "y = int(j)\n",
        "print(d)\n",
        "print(i)\n",
        "print(v)\n",
        "print(y)\n",
        "print(a)\n",
        "print(s)\n",
        "print(r)\n",
        "print(i)\n",
        "print(z)\n",
        "print(y)"
      ],
      "metadata": {
        "colab": {
          "base_uri": "https://localhost:8080/"
        },
        "id": "y87w8ZD7mVzM",
        "outputId": "a8472d35-9566-44f4-ea07-af3647fd7bdd"
      },
      "execution_count": 2,
      "outputs": [
        {
          "output_type": "stream",
          "name": "stdout",
          "text": [
            "3847.83827\n",
            "12719.12\n",
            "98\n",
            "399\n",
            "9999999\n",
            "1036\n",
            "983455\n",
            "12719.12\n",
            "12719\n",
            "399\n"
          ]
        }
      ]
    },
    {
      "cell_type": "code",
      "source": [
        "#int to complex $ float to complex\n",
        "a = 739\n",
        "d = complex(a)\n",
        "b = 13.4387\n",
        "i = complex(b)\n",
        "c = 989898\n",
        "v = complex(c)\n",
        "d = 3.0\n",
        "y = complex(d)\n",
        "e = 3984\n",
        "a = complex(e)\n",
        "f = 943.43\n",
        "s = complex(f)\n",
        "g = 2347800\n",
        "r = complex(g)\n",
        "h = 434343.434343\n",
        "i = complex(h)\n",
        "i = 97766\n",
        "z = complex(i)\n",
        "j = 7.7\n",
        "y = complex(j)\n",
        "print(d)\n",
        "print(i)\n",
        "print(v)\n",
        "print(y)\n",
        "print(a)\n",
        "print(s)\n",
        "print(r)\n",
        "print(i)\n",
        "print(z)\n",
        "print(y)"
      ],
      "metadata": {
        "colab": {
          "base_uri": "https://localhost:8080/"
        },
        "id": "PYX1tI0GmZWh",
        "outputId": "b963095d-d034-448d-fd97-474da20c0312"
      },
      "execution_count": 3,
      "outputs": [
        {
          "output_type": "stream",
          "name": "stdout",
          "text": [
            "3.0\n",
            "97766\n",
            "(989898+0j)\n",
            "(7.7+0j)\n",
            "(3984+0j)\n",
            "(943.43+0j)\n",
            "(2347800+0j)\n",
            "97766\n",
            "(97766+0j)\n",
            "(7.7+0j)\n"
          ]
        }
      ]
    },
    {
      "cell_type": "code",
      "source": [
        "#boolean\n",
        "print(13 == 3)\n",
        "print(99 <= 999)\n",
        "print(4 > 2)\n",
        "print(32 <= 88)\n",
        "print(188 < 32)\n",
        "print(75553 >= 69)\n",
        "print(556 == 556)\n",
        "print(29 >= 123)\n",
        "print(93846 > 8747)\n",
        "print(10 < 10000)"
      ],
      "metadata": {
        "colab": {
          "base_uri": "https://localhost:8080/"
        },
        "id": "b4IvBuD6mee4",
        "outputId": "5137ab7d-dad2-4866-d5e5-e61928ab7fab"
      },
      "execution_count": null,
      "outputs": [
        {
          "output_type": "stream",
          "name": "stdout",
          "text": [
            "False\n",
            "True\n",
            "True\n",
            "True\n",
            "False\n",
            "True\n",
            "True\n",
            "False\n",
            "True\n",
            "True\n"
          ]
        }
      ]
    }
  ]
}