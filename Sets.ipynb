{
 "cells": [
  {
   "cell_type": "code",
   "execution_count": 1,
   "id": "8d7e7582-8588-428a-af76-c8d118f69811",
   "metadata": {},
   "outputs": [
    {
     "name": "stdout",
     "output_type": "stream",
     "text": [
      "{'C', 'A', 'B+', 'B', 'A+'}\n",
      "{'C', 'A', 'D', 'B+', 'A+'}\n",
      "added set: {'analyst', 'datascience', 'java', 'python', 'devops', 876, 478, 7663}\n",
      "{'datascience', 'uiux', 'python', 'devops', 'powerbi', 7663, 'java', 'webdeveloper', 478, 'analyst'}\n",
      "{'analyst', 'datascience', 'java', 'python', 478, 7663}\n",
      "{'analyst', 'datascience', 'java', 'python', 7663}\n"
     ]
    }
   ],
   "source": [
    "#creation of set\n",
    "grade = set([\"A\",\"A+\",\"B\",\"B+\",\"C\"])\n",
    "print(grade)\n",
    "\n",
    "grades = set([\"A\",\"A+\",\"A\",\"B+\",\"C\",\"D\",\"C\"])\n",
    "print(grades)\n",
    "\n",
    "#Add items to a set\n",
    "stream = {\"python\", 478, \"datascience\", \"java\", \"analyst\", \"devops\", 7663}\n",
    "stream.add(876)\n",
    "print(\"added set:\", stream)\n",
    "\n",
    "#Update items \n",
    "stream = {\"python\", 478, \"datascience\", \"java\", \"analyst\", \"devops\", 7663}\n",
    "new_stream = {\"webdeveloper\", \"uiux\", \"powerbi\", \"uiux\"}\n",
    "update_stream = stream.update(new_stream)\n",
    "print(stream)\n",
    "\n",
    "#Remove\n",
    "stream = {\"python\", 478, \"datascience\", \"java\", \"analyst\", \"devops\", 7663}\n",
    "removedvalue = stream.remove(\"devops\")\n",
    "print(stream)\n",
    "\n",
    "removedvalue = stream.discard(478)\n",
    "print(stream)\n"
   ]
  },
  {
   "cell_type": "code",
   "execution_count": 2,
   "id": "d55c41a9-1e54-44f3-985b-ff749f430685",
   "metadata": {},
   "outputs": [
    {
     "name": "stdout",
     "output_type": "stream",
     "text": [
      "union using |: {289, 'Kabbadi', 7, 1000, 555, 'cricket', 'carrom', 9999, 'tennis', 'skipping'}\n",
      "{289, 'Kabbadi', 7, 1000, 555, 'cricket', 'carrom', 9999, 'tennis', 'skipping'}\n",
      "intersection using &: {'tennis', 555}\n",
      "{'tennis', 555}\n",
      "difference using -: {'Kabbadi', 'cricket', 9999, 7}\n",
      "{1000, 289, 'skipping', 'carrom'}\n",
      "{'Kabbadi', 'cricket', 9999, 7}\n",
      "using symmetric ^: {289, 'Kabbadi', 7, 1000, 'cricket', 'carrom', 9999, 'skipping'}\n",
      "{7, 'carrom', 9999, 289, 'Kabbadi', 1000, 'cricket', 'skipping'}\n"
     ]
    }
   ],
   "source": [
    "#Set Operations\n",
    "#union of two sets\n",
    "sport1 = {\"cricket\", \"Kabbadi\", \"tennis\", 555, 9999, 7}\n",
    "sport2 = {\"carrom\", \"skipping\", \"tennis\",289, 1000, 555}\n",
    "print('union using |:', sport1 |sport2)\n",
    "print(sport1.union(sport2))\n",
    "\n",
    "#set Intersection\n",
    "print('intersection using &:',sport1 & sport2)\n",
    "print(sport1.intersection(sport2))\n",
    "\n",
    "#Difference between two sets\n",
    "print('difference using -:', sport1 - sport2)\n",
    "print(sport2 - sport1)\n",
    "print(sport1.difference(sport2))\n",
    "\n",
    "#set symmetric difference\n",
    "print('using symmetric ^:', sport1 ^ sport2)\n",
    "print(sport2 ^ sport1)\n"
   ]
  },
  {
   "cell_type": "code",
   "execution_count": null,
   "id": "f4bf21dc-b2b1-40ab-8469-2da6d9ba3e68",
   "metadata": {},
   "outputs": [],
   "source": []
  },
  {
   "cell_type": "code",
   "execution_count": null,
   "id": "7d5e2dc7-fd4e-4af3-9ac4-b5a0dd750b6b",
   "metadata": {},
   "outputs": [],
   "source": []
  }
 ],
 "metadata": {
  "kernelspec": {
   "display_name": "Python 3 (ipykernel)",
   "language": "python",
   "name": "python3"
  },
  "language_info": {
   "codemirror_mode": {
    "name": "ipython",
    "version": 3
   },
   "file_extension": ".py",
   "mimetype": "text/x-python",
   "name": "python",
   "nbconvert_exporter": "python",
   "pygments_lexer": "ipython3",
   "version": "3.12.4"
  }
 },
 "nbformat": 4,
 "nbformat_minor": 5
}
