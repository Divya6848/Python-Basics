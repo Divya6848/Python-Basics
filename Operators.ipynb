{
 "cells": [
  {
   "cell_type": "code",
   "execution_count": 1,
   "id": "4c289b19-188d-400f-859b-daa53b325e0e",
   "metadata": {},
   "outputs": [
    {
     "name": "stdout",
     "output_type": "stream",
     "text": [
      "97\n",
      "47\n",
      "1800\n",
      "2.88\n",
      "27121419161564558068894103990026016011617042432\n",
      "22\n",
      "2\n"
     ]
    }
   ],
   "source": [
    "#Arithmetic operators\n",
    "x = 72\n",
    "y = 25\n",
    "\n",
    "#Addition\n",
    "z = x + y\n",
    "print(z)\n",
    "\n",
    "#Subtraction\n",
    "a = x - y\n",
    "print(a)\n",
    "\n",
    "#Multiplication\n",
    "b = x * y\n",
    "print(b)\n",
    "\n",
    "#Division\n",
    "c = x / y\n",
    "print(c)\n",
    "\n",
    "#Exponentiation\n",
    "d = x ** y\n",
    "print(d)\n",
    "\n",
    "#Modulus\n",
    "e = x % y\n",
    "print(e)\n",
    "\n",
    "#Floor division\n",
    "f = x // y\n",
    "print(f)"
   ]
  },
  {
   "cell_type": "code",
   "execution_count": 2,
   "id": "0667ad1b-46a1-4c37-b8d0-96cf5357cf6a",
   "metadata": {},
   "outputs": [
    {
     "name": "stdout",
     "output_type": "stream",
     "text": [
      "10\n",
      "445\n",
      "379\n",
      "25014\n",
      "379.0\n",
      "49.0\n",
      "3.572245368921466e+111\n",
      "5.412492983214342e+109\n"
     ]
    }
   ],
   "source": [
    "#Assignment Operators\n",
    "x = 379\n",
    "y = 66\n",
    "#Assignment\n",
    "a = 10 \n",
    "print(a)\n",
    "\n",
    "#Addition assignment\n",
    "x += y\n",
    "print(x)\n",
    "\n",
    "#Subtraction assignment\n",
    "x -= y\n",
    "print(x)\n",
    "\n",
    "#Multiplication assignment\n",
    "x *= y\n",
    "print(x)\n",
    "\n",
    "#Division assignment\n",
    "x /= y\n",
    "print(x)\n",
    "\n",
    "#Remainder assignment \n",
    "x %= y\n",
    "print(x)\n",
    "\n",
    "#Exponent assignment\n",
    "x **= y\n",
    "print(x)\n",
    "\n",
    "#Floor division assignment\n",
    "x //= y\n",
    "print(x)\n"
   ]
  },
  {
   "cell_type": "code",
   "execution_count": 3,
   "id": "575c90bc-13bd-425a-b960-4b8f66f4e328",
   "metadata": {},
   "outputs": [
    {
     "name": "stdout",
     "output_type": "stream",
     "text": [
      "a == b False\n",
      "a != b True\n",
      "a > b True\n",
      "a < b False\n",
      "a >= b True\n",
      "a <= b False\n"
     ]
    }
   ],
   "source": [
    "#Comparison Operators\n",
    "a = 33\n",
    "b = 25\n",
    "\n",
    "#is equal to \n",
    "print('a == b', a == b)\n",
    "\n",
    "#not equal to\n",
    "print('a != b', a != b)\n",
    "\n",
    "#greater than\n",
    "print('a > b', a > b)\n",
    "\n",
    "#less than\n",
    "print('a < b', a < b)\n",
    "\n",
    "#greater than or equal to\n",
    "print('a >= b', a >= b)\n",
    "\n",
    "#less than or equal to \n",
    "print('a <= b', a <= b)"
   ]
  },
  {
   "cell_type": "code",
   "execution_count": 4,
   "id": "9b0ebe7b-27c7-4c0c-84ae-f0b79850398b",
   "metadata": {},
   "outputs": [
    {
     "name": "stdout",
     "output_type": "stream",
     "text": [
      "True\n",
      "True\n",
      "False\n",
      "True\n"
     ]
    }
   ],
   "source": [
    "#Logical Operators\n",
    "#and\n",
    "print(555>444 and 555<666)\n",
    "#or\n",
    "print(555>666 or 444<555)\n",
    "#not\n",
    "d = 77\n",
    "print(not(d>55 and d<99))\n",
    "print(not(d<55 and d>99))"
   ]
  },
  {
   "cell_type": "code",
   "execution_count": 5,
   "id": "2ce261c8-01ee-451b-85dc-1f1fd06ed19e",
   "metadata": {},
   "outputs": [
    {
     "name": "stdout",
     "output_type": "stream",
     "text": [
      "True\n",
      "False\n",
      "True\n",
      "False\n"
     ]
    }
   ],
   "source": [
    "#identity Operators\n",
    "a1 = 'Types'\n",
    "b1 = 'Data Types'\n",
    "a2 = 77\n",
    "b2 = 77\n",
    "print(a1 is not b1)\n",
    "print(a2 is not b2)\n",
    "print(b2 is a2)\n",
    "print(b1 is a1)"
   ]
  },
  {
   "cell_type": "code",
   "execution_count": 6,
   "id": "5e2d67b8-ea59-4e6d-bc1f-0d3e6a2499b8",
   "metadata": {},
   "outputs": [
    {
     "name": "stdout",
     "output_type": "stream",
     "text": [
      "True\n",
      "False\n",
      "False\n"
     ]
    }
   ],
   "source": [
    "#Membership Operators\n",
    "Fullstack = ['python','html', 'css', 'mongodb']\n",
    "Datascience = ['python','machine learning','excel','powerbi']\n",
    "print('python' in Fullstack)\n",
    "print('html' in Datascience)\n",
    "print('powerbi' not in Datascience)"
   ]
  },
  {
   "cell_type": "code",
   "execution_count": 7,
   "id": "ca083cbe-b783-448c-b019-a0475de07faa",
   "metadata": {},
   "outputs": [
    {
     "name": "stdout",
     "output_type": "stream",
     "text": [
      "8\n",
      "62\n",
      "54\n",
      "-57\n",
      "917504\n",
      "0\n"
     ]
    }
   ],
   "source": [
    "#Bitwise Operators\n",
    "x = 56\n",
    "y = 14\n",
    "\n",
    "#bitwise and\n",
    "print(x & y)\n",
    "\n",
    "#bitwise or\n",
    "print(x | y)\n",
    "\n",
    "#bitwise xor\n",
    "print(x ^ y)\n",
    "\n",
    "#bitwise not\n",
    "print(~ x)\n",
    "\n",
    "#bitwise left shift\n",
    "print(x << y)\n",
    "\n",
    "#bitwise right shift\n",
    "print(x >> y)"
   ]
  },
  {
   "cell_type": "code",
   "execution_count": null,
   "id": "33434fb9-8d4b-4df5-a2d7-0e133e7e7225",
   "metadata": {},
   "outputs": [],
   "source": []
  }
 ],
 "metadata": {
  "kernelspec": {
   "display_name": "Python 3 (ipykernel)",
   "language": "python",
   "name": "python3"
  },
  "language_info": {
   "codemirror_mode": {
    "name": "ipython",
    "version": 3
   },
   "file_extension": ".py",
   "mimetype": "text/x-python",
   "name": "python",
   "nbconvert_exporter": "python",
   "pygments_lexer": "ipython3",
   "version": "3.12.4"
  }
 },
 "nbformat": 4,
 "nbformat_minor": 5
}
