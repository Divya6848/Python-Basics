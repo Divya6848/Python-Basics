{
 "cells": [
  {
   "cell_type": "code",
   "execution_count": 1,
   "id": "c5f36e7b-4628-4761-a048-fa88091a0d5e",
   "metadata": {},
   "outputs": [
    {
     "name": "stdout",
     "output_type": "stream",
     "text": [
      "21\n"
     ]
    }
   ],
   "source": [
    "a = 6\n",
    "b = 15\n",
    "#addition\n",
    "c = a + b\n",
    "print(c)"
   ]
  },
  {
   "cell_type": "code",
   "execution_count": 2,
   "id": "1ea41918-b955-493d-a964-95db45f23bed",
   "metadata": {},
   "outputs": [
    {
     "name": "stdout",
     "output_type": "stream",
     "text": [
      "99\n"
     ]
    }
   ],
   "source": [
    "a = 33\n",
    "b = 66\n",
    "#subtraction\n",
    "c = a + b\n",
    "print(c)"
   ]
  },
  {
   "cell_type": "code",
   "execution_count": 3,
   "id": "21ef76e9-4792-4711-8430-5defdbd478f1",
   "metadata": {},
   "outputs": [
    {
     "name": "stdout",
     "output_type": "stream",
     "text": [
      "2272377654144\n"
     ]
    }
   ],
   "source": [
    "a = 6888999\n",
    "b = 329856\n",
    "#multiplication\n",
    "c = a * b\n",
    "print(c)"
   ]
  },
  {
   "cell_type": "code",
   "execution_count": 4,
   "id": "98fc148d-a886-4748-a900-1293804a4d70",
   "metadata": {},
   "outputs": [
    {
     "name": "stdout",
     "output_type": "stream",
     "text": [
      "1.0\n"
     ]
    }
   ],
   "source": [
    "a = 34\n",
    "b = 34 \n",
    "#division\n",
    "c = a / b\n",
    "print(c)\n"
   ]
  },
  {
   "cell_type": "code",
   "execution_count": 5,
   "id": "9cff6748-a306-4045-9887-046ba7db46b7",
   "metadata": {},
   "outputs": [
    {
     "name": "stdout",
     "output_type": "stream",
     "text": [
      "11756638905368616011414050501310355554617941909569536\n"
     ]
    }
   ],
   "source": [
    "c = a ** b\n",
    "print(c)\n"
   ]
  },
  {
   "cell_type": "code",
   "execution_count": 6,
   "id": "a58fe6a4-4ba1-4076-be31-757256263cfd",
   "metadata": {},
   "outputs": [
    {
     "name": "stdout",
     "output_type": "stream",
     "text": [
      "1\n"
     ]
    }
   ],
   "source": [
    "d = a // b\n",
    "print(d)"
   ]
  },
  {
   "cell_type": "code",
   "execution_count": 7,
   "id": "f4dd96d9-5db1-4a1a-b262-aa427b970c3c",
   "metadata": {},
   "outputs": [
    {
     "name": "stdout",
     "output_type": "stream",
     "text": [
      "0\n"
     ]
    }
   ],
   "source": [
    "e = a % b\n",
    "print(e)"
   ]
  },
  {
   "cell_type": "code",
   "execution_count": 8,
   "id": "c3837474-5bc5-4a6f-be75-ab73b72121a8",
   "metadata": {},
   "outputs": [
    {
     "name": "stdout",
     "output_type": "stream",
     "text": [
      "44\n"
     ]
    }
   ],
   "source": [
    "#Assignment Operators\n",
    "a = 12 \n",
    "b = 32\n",
    "\n",
    "a += b\n",
    "print(a)"
   ]
  },
  {
   "cell_type": "code",
   "execution_count": 9,
   "id": "a101bc38-6906-4451-8a7a-f9d262748bf2",
   "metadata": {},
   "outputs": [
    {
     "name": "stdout",
     "output_type": "stream",
     "text": [
      "12\n"
     ]
    }
   ],
   "source": [
    "a -= b\n",
    "print(a)"
   ]
  },
  {
   "cell_type": "code",
   "execution_count": 10,
   "id": "0f8057dd-341b-4ebd-9e51-f51adb6fbd46",
   "metadata": {},
   "outputs": [
    {
     "name": "stdout",
     "output_type": "stream",
     "text": [
      "384\n"
     ]
    }
   ],
   "source": [
    "a *= b\n",
    "print(a)"
   ]
  },
  {
   "cell_type": "code",
   "execution_count": 11,
   "id": "df890a08-b128-4a67-b226-5b6476132afd",
   "metadata": {},
   "outputs": [
    {
     "name": "stdout",
     "output_type": "stream",
     "text": [
      "12.0\n"
     ]
    }
   ],
   "source": [
    "a /= b\n",
    "print(a)"
   ]
  },
  {
   "cell_type": "code",
   "execution_count": 12,
   "id": "adf0c83e-9652-44cf-ae35-e738ec757dc4",
   "metadata": {},
   "outputs": [
    {
     "name": "stdout",
     "output_type": "stream",
     "text": [
      "12.0\n"
     ]
    }
   ],
   "source": [
    "a %= b\n",
    "print(a)"
   ]
  },
  {
   "cell_type": "code",
   "execution_count": 13,
   "id": "978e9aab-715f-4c4b-b0c9-1ef73b2b3274",
   "metadata": {},
   "outputs": [
    {
     "name": "stdout",
     "output_type": "stream",
     "text": [
      "3.418218918716685e+34\n"
     ]
    }
   ],
   "source": [
    "a **= b\n",
    "print(a)"
   ]
  },
  {
   "cell_type": "code",
   "execution_count": 14,
   "id": "44495751-c2c2-4d91-bdc3-5316baa2e554",
   "metadata": {},
   "outputs": [
    {
     "name": "stdout",
     "output_type": "stream",
     "text": [
      "16\n",
      "2.0\n",
      "100000\n"
     ]
    }
   ],
   "source": [
    "#Precedence \n",
    "#arithmetic Operator\n",
    "a = 10\n",
    "b = 2\n",
    "c = 3\n",
    "print(a + b * c) \n",
    "print(a / (b + c))\n",
    "print(a ** (b + c))"
   ]
  },
  {
   "cell_type": "code",
   "execution_count": 15,
   "id": "90d99155-c02a-40f8-9d47-01311992213e",
   "metadata": {},
   "outputs": [
    {
     "name": "stdout",
     "output_type": "stream",
     "text": [
      "46\n",
      "2.75\n",
      "3272.856948852539\n"
     ]
    }
   ],
   "source": [
    "#Assignment Operator\n",
    "a = 15\n",
    "b = 8\n",
    "a += b\n",
    "a *= 2\n",
    "print(a)\n",
    "a /= b\n",
    "a -= 3\n",
    "print(a)\n",
    "a **= b\n",
    "a += 2\n",
    "print(a)\n"
   ]
  },
  {
   "cell_type": "code",
   "execution_count": 16,
   "id": "0d809ac4-d673-43c5-97cb-268f38300d55",
   "metadata": {},
   "outputs": [
    {
     "name": "stdout",
     "output_type": "stream",
     "text": [
      "False\n",
      "False\n",
      "True\n"
     ]
    }
   ],
   "source": [
    "#Comparison Operator\n",
    "a = 5\n",
    "b = 9\n",
    "c = 6\n",
    "print(a > b and a > c)\n",
    "print(a > b or a > c)\n",
    "print(not (a > b and a > c))"
   ]
  },
  {
   "cell_type": "code",
   "execution_count": 17,
   "id": "4eab795f-ffbd-4118-acfa-2ac4e4361a25",
   "metadata": {},
   "outputs": [
    {
     "name": "stdout",
     "output_type": "stream",
     "text": [
      "14\n",
      "14\n",
      "False\n"
     ]
    }
   ],
   "source": [
    "#Logical Operator\n",
    "a = 64\n",
    "b = 14\n",
    "c = 12\n",
    "print(a and (b or c))\n",
    "print((a and b) or c)\n",
    "print(not (a and (b or c)))"
   ]
  },
  {
   "cell_type": "code",
   "execution_count": 18,
   "id": "aa053c50-bd93-4d42-b098-0292e21ac02a",
   "metadata": {},
   "outputs": [
    {
     "name": "stdout",
     "output_type": "stream",
     "text": [
      "True\n",
      "False\n",
      "True\n"
     ]
    }
   ],
   "source": [
    "#Identity Operator\n",
    "a = [5, 5, 6]\n",
    "b = a \n",
    "print(a is b and a == b)\n",
    "print(a is not b and a == b)\n",
    "a = [5, 5, 6, 6]\n",
    "b = a[:]\n",
    "print(a is not b and a == b)"
   ]
  },
  {
   "cell_type": "code",
   "execution_count": 19,
   "id": "fde9f259-60e1-4d29-92ac-5e5a7ba536eb",
   "metadata": {},
   "outputs": [
    {
     "name": "stdout",
     "output_type": "stream",
     "text": [
      "True\n",
      "False\n",
      "True\n"
     ]
    }
   ],
   "source": [
    "#Membership Operator\n",
    "a = [1, 2, 3]\n",
    "b = [2, 3, 4]\n",
    "print(set(a) & set(b) == set([2, 3]))\n",
    "print(set(a) | set(b) == set([1, 2, 3]))\n",
    "print(set(a) - set(b) == set([1]))"
   ]
  },
  {
   "cell_type": "code",
   "execution_count": 20,
   "id": "825d2147-420b-41de-971a-4dc6c2bead7d",
   "metadata": {},
   "outputs": [
    {
     "name": "stdout",
     "output_type": "stream",
     "text": [
      "6\n",
      "15\n",
      "16\n"
     ]
    }
   ],
   "source": [
    "#Bitwise Operator\n",
    "a = 15\n",
    "b = 4\n",
    "print(a & (b | 2)) \n",
    "print(a ^ (b & 2))\n",
    "print(~a & (b << 2))"
   ]
  },
  {
   "cell_type": "code",
   "execution_count": null,
   "id": "45e99ff3-85c4-4a76-89e9-3de5a179afc9",
   "metadata": {},
   "outputs": [],
   "source": []
  }
 ],
 "metadata": {
  "kernelspec": {
   "display_name": "Python 3 (ipykernel)",
   "language": "python",
   "name": "python3"
  },
  "language_info": {
   "codemirror_mode": {
    "name": "ipython",
    "version": 3
   },
   "file_extension": ".py",
   "mimetype": "text/x-python",
   "name": "python",
   "nbconvert_exporter": "python",
   "pygments_lexer": "ipython3",
   "version": "3.12.4"
  }
 },
 "nbformat": 4,
 "nbformat_minor": 5
}
