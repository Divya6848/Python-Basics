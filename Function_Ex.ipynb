{
 "cells": [
  {
   "cell_type": "code",
   "execution_count": 1,
   "id": "ee69c0d7-5702-4824-8588-cfee358a7b45",
   "metadata": {},
   "outputs": [
    {
     "name": "stdout",
     "output_type": "stream",
     "text": [
      "The maximmum number is:  99\n"
     ]
    }
   ],
   "source": [
    "def max_value(a, b):\n",
    "    if a > b:\n",
    "        print(\"The maximum number is: \", a)\n",
    "    else:\n",
    "        print(\"The maximmum number is: \",b)\n",
    "        \n",
    "max_value(33, 99)"
   ]
  },
  {
   "cell_type": "code",
   "execution_count": 2,
   "id": "4521e03a-8638-4d4a-8046-766353e50b71",
   "metadata": {},
   "outputs": [
    {
     "name": "stdout",
     "output_type": "stream",
     "text": [
      "The maximum number is: 426889\n"
     ]
    }
   ],
   "source": [
    "#maximum number among the 3 numbers\n",
    "def max_value(a, b, c):\n",
    "    if a>b and a>c:\n",
    "        print(\"The maximum number is:\",a)\n",
    "    elif b>a and c>a:\n",
    "        print(\"The maximum number is:\",b)\n",
    "    else:\n",
    "        print(\"The maximum number is:\",c)\n",
    "\n",
    "max_value(487, 37, 426889)"
   ]
  },
  {
   "cell_type": "code",
   "execution_count": 3,
   "id": "b7959068-7806-4e0c-abd9-924a8d4b00f2",
   "metadata": {},
   "outputs": [
    {
     "name": "stdout",
     "output_type": "stream",
     "text": [
      "-3 negative number\n"
     ]
    }
   ],
   "source": [
    "#check positive, negative or zero\n",
    "def num(d):\n",
    "    if d > 0:\n",
    "        print(d,\"positive number\")\n",
    "    elif d < 0:\n",
    "        print(d,\"negative number\")\n",
    "    else:\n",
    "        print(d,\"zero\")\n",
    "\n",
    "num(-3)"
   ]
  },
  {
   "cell_type": "code",
   "execution_count": 4,
   "id": "6bea5741-9645-4cd0-a3fa-269ee2511565",
   "metadata": {},
   "outputs": [
    {
     "name": "stdout",
     "output_type": "stream",
     "text": [
      "65 divisible by 5 but not 11\n",
      "99 divisible by 11 but not 5\n",
      "55 divisible by 5 and 11\n"
     ]
    }
   ],
   "source": [
    "#number divisible by 5 and 11 or not\n",
    "def div(x):\n",
    "    if x % 5 == 0 and x % 11 == 0:\n",
    "        print(x,\"divisible by 5 and 11\")\n",
    "    elif x % 5 == 0:\n",
    "        print(x,\"divisible by 5 but not 11\")\n",
    "    elif x % 11 == 0:\n",
    "        print(x,\"divisible by 11 but not 5\")\n",
    "    else:\n",
    "        print(x,\"Not divisible by either 5 or 11\")\n",
    "        \n",
    "div(65)\n",
    "div(99)\n",
    "div(55)"
   ]
  },
  {
   "cell_type": "code",
   "execution_count": 5,
   "id": "91feda16-7dc1-406a-87e6-ee2ca41565a7",
   "metadata": {},
   "outputs": [
    {
     "name": "stdout",
     "output_type": "stream",
     "text": [
      "2020 is a leap year\n",
      "2002 it's not a leap year\n"
     ]
    }
   ],
   "source": [
    "#check leap year or not\n",
    "def leap_year(year):\n",
    "    if year % 4 == 0 and (year % 100 != 0 or year % 400 == 0):\n",
    "        print(year,\"is a leap year\")\n",
    "    else:\n",
    "        print(year,\"it's not a leap year\")\n",
    "\n",
    "leap_year(2020)\n",
    "leap_year(2002)"
   ]
  },
  {
   "cell_type": "code",
   "execution_count": 6,
   "id": "8d927180-1faf-4cc9-be7b-b672ea590405",
   "metadata": {},
   "outputs": [
    {
     "name": "stdout",
     "output_type": "stream",
     "text": [
      "D is an alphabet\n",
      "@ is not an alphabet\n"
     ]
    }
   ],
   "source": [
    "#Check alphabet or not\n",
    "def name(alpha):\n",
    "    if alpha.isalpha():\n",
    "        print(alpha,\"is an alphabet\")\n",
    "    else:\n",
    "        print(alpha,\"is not an alphabet\")\n",
    "   \n",
    "name(\"D\")\n",
    "name(\"@\")"
   ]
  },
  {
   "cell_type": "code",
   "execution_count": 7,
   "id": "e3bf24bf-8c7a-49f2-bbc5-982cd6683954",
   "metadata": {},
   "outputs": [
    {
     "name": "stdout",
     "output_type": "stream",
     "text": [
      "O is a consonant\n",
      "p is a consonant\n"
     ]
    }
   ],
   "source": [
    "#Check character is vowel or consonant\n",
    "def vo_con(alpha):\n",
    "    if alpha.lower() == [\"a\",\"e\",\"i\",\"o\",\"u\"]:\n",
    "        print(alpha, \"is a vowel\")\n",
    "    elif alpha.isalpha():\n",
    "        print(alpha, \"is a consonant\")\n",
    "    else:\n",
    "        print(alpha, \"is neither a vowel or a consonant\")\n",
    "\n",
    "vo_con(\"O\")\n",
    "vo_con(\"p\")\n"
   ]
  },
  {
   "cell_type": "code",
   "execution_count": 8,
   "id": "03222d56-6778-4834-bdcd-7bbdf5b9937d",
   "metadata": {},
   "outputs": [
    {
     "name": "stdout",
     "output_type": "stream",
     "text": [
      "u is an alphabet\n",
      "67 is a digit\n",
      "$ special character\n"
     ]
    }
   ],
   "source": [
    "#check alphabet or digit or special character\n",
    "def ads(z):\n",
    "    if z.isalpha():\n",
    "        print(z,\"is an alphabet\")\n",
    "    elif z.isdigit():\n",
    "        print(z,\"is a digit\")\n",
    "    else:\n",
    "        print(z,\"special character\")\n",
    "\n",
    "ads(\"u\")\n",
    "ads(\"67\")\n",
    "ads(\"$\")"
   ]
  },
  {
   "cell_type": "code",
   "execution_count": 9,
   "id": "79c84fdc-c1b9-4d59-b982-2ce0b1d860c6",
   "metadata": {},
   "outputs": [
    {
     "name": "stdout",
     "output_type": "stream",
     "text": [
      "g is a lowercase\n",
      "R is a Uppercase\n"
     ]
    }
   ],
   "source": [
    "#upper or lowercase character\n",
    "def up_low(x):\n",
    "    if x.isupper():\n",
    "        print(x,\"is a Uppercase\")\n",
    "    elif x.islower():\n",
    "        print(x,\"is a lowercase\")\n",
    "    else:\n",
    "        print(x,\"it's not an alphabet\")\n",
    "\n",
    "up_low(\"g\")\n",
    "up_low(\"R\")"
   ]
  },
  {
   "cell_type": "code",
   "execution_count": 10,
   "id": "f40fda0f-973f-4c9a-9c09-11198b9ad0e5",
   "metadata": {},
   "outputs": [
    {
     "name": "stdin",
     "output_type": "stream",
     "text": [
      "Enter week number (1-7): 5\n"
     ]
    },
    {
     "name": "stdout",
     "output_type": "stream",
     "text": [
      "Friday\n"
     ]
    }
   ],
   "source": [
    "#program to input week number and print week day\n",
    "week = int(input(\"Enter week number (1-7):\"))\n",
    "week_days = [\"Monday\", \"Tuesday\", \"Wednesday\", \"Thursday\", \"Friday\", \"Saturday\", \"Sunday\"]\n",
    "if week >= 1 and week <= 7:\n",
    "    print(week_days[week- 1])\n",
    "else:\n",
    "    print(\"Invalid week number\")\n"
   ]
  },
  {
   "cell_type": "code",
   "execution_count": 11,
   "id": "bf6eefd4-415e-4a94-8733-e8c8d990cad9",
   "metadata": {},
   "outputs": [
    {
     "name": "stdin",
     "output_type": "stream",
     "text": [
      "Enter month number(1-12): 10\n"
     ]
    },
    {
     "name": "stdout",
     "output_type": "stream",
     "text": [
      "october\n"
     ]
    }
   ],
   "source": [
    "#program to input month number and print month Name\n",
    "month = int(input(\"Enter month number(1-12):\"))\n",
    "month_name = [\"January\",\"february\",\"march\",\"april\",\"may\",\"june\",\"july\",\"august\",\"september\",\"october\",\"november\",\"december\"]\n",
    "if month >=1 and month <= 12:\n",
    "    print(month_name[month-1])\n",
    "else:\n",
    "    print(\"invalid month number\")\n"
   ]
  },
  {
   "cell_type": "code",
   "execution_count": 12,
   "id": "dea21bc6-0ee3-4edd-9296-3ce513480a39",
   "metadata": {},
   "outputs": [
    {
     "name": "stdin",
     "output_type": "stream",
     "text": [
      "Enter amount:  1346\n"
     ]
    },
    {
     "name": "stdout",
     "output_type": "stream",
     "text": [
      "Note count: {500: 2, 200: 1, 100: 1, 50: 0, 20: 2, 10: 0, 5: 1, 1: 1}\n"
     ]
    }
   ],
   "source": [
    "#Count total number of notes\n",
    "amount = int(input(\"Enter amount: \"))\n",
    "notes = [500, 200, 100, 50, 20, 10, 5, 1]\n",
    "note_count = {}\n",
    "for note in notes:\n",
    "    note_count[note] = amount // note\n",
    "    amount %= note\n",
    "print(\"Note count:\", note_count)\n"
   ]
  },
  {
   "cell_type": "code",
   "execution_count": 13,
   "id": "96a33fe4-22a9-4ced-a08d-14c3c8a7562f",
   "metadata": {},
   "outputs": [
    {
     "name": "stdin",
     "output_type": "stream",
     "text": [
      "Enter first angle:  43\n",
      "Enter second angle:  66\n",
      "Enter third angle:  72\n"
     ]
    },
    {
     "name": "stdout",
     "output_type": "stream",
     "text": [
      "Invalid triangle\n"
     ]
    }
   ],
   "source": [
    "#check triangle is valid  or not\n",
    "a = int(input(\"Enter first angle: \"))\n",
    "b = int(input(\"Enter second angle: \"))\n",
    "c = int(input(\"Enter third angle: \"))\n",
    "if a + b + c == 180:\n",
    "    print(\"Valid triangle\")\n",
    "else:\n",
    "    print(\"Invalid triangle\")\n"
   ]
  },
  {
   "cell_type": "code",
   "execution_count": 14,
   "id": "617c1c89-91cd-46c8-8dd1-1bd3e95da402",
   "metadata": {},
   "outputs": [
    {
     "name": "stdout",
     "output_type": "stream",
     "text": [
      "Valid triangle\n"
     ]
    }
   ],
   "source": [
    "#using function\n",
    "def triangle(a,b,c):\n",
    "    if a + b + c == 180:\n",
    "        print(\"Valid triangle\")\n",
    "    else:\n",
    "        print(\"Invalid triangle\")\n",
    "\n",
    "triangle(45,88,47)"
   ]
  },
  {
   "cell_type": "code",
   "execution_count": 15,
   "id": "01cf0eff-69c0-4134-83ce-96a7baf8cff6",
   "metadata": {},
   "outputs": [
    {
     "name": "stdin",
     "output_type": "stream",
     "text": [
      "Enter first side:  55\n",
      "Enter second side:  44\n",
      "Enter third side:  55\n"
     ]
    },
    {
     "name": "stdout",
     "output_type": "stream",
     "text": [
      "Isosceles triangle\n"
     ]
    }
   ],
   "source": [
    "#check triangle is equilateral, isosceles or scalene\n",
    "a = int(input(\"Enter first side: \"))\n",
    "b = int(input(\"Enter second side: \"))\n",
    "c = int(input(\"Enter third side: \"))\n",
    "if a == b == c:\n",
    "    print(\"Equilateral triangle\")\n",
    "elif a == b or b == c or a == c:\n",
    "    print(\"Isosceles triangle\")\n",
    "else:\n",
    "    print(\"Scalene triangle\")\n"
   ]
  },
  {
   "cell_type": "code",
   "execution_count": 16,
   "id": "722cba47-a6cf-4157-8c74-5d0fa60d07a7",
   "metadata": {},
   "outputs": [
    {
     "name": "stdout",
     "output_type": "stream",
     "text": [
      "Scalene triangle\n"
     ]
    }
   ],
   "source": [
    "#using functions\n",
    "def tri(a,b,c):\n",
    "    if a == b == c:\n",
    "        print(\"Equilateral triangle\")\n",
    "    elif a == b or b == c or a == c:\n",
    "        print(\"Isosceles triangle\")\n",
    "    else:\n",
    "        print(\"Scalene triangle\")\n",
    "\n",
    "tri(33,44,55)"
   ]
  },
  {
   "cell_type": "code",
   "execution_count": 17,
   "id": "47129049-f138-4896-987f-be8115547ced",
   "metadata": {},
   "outputs": [
    {
     "name": "stdin",
     "output_type": "stream",
     "text": [
      "Enter the cost price: 5000\n",
      "Enter the selling price: 9000\n"
     ]
    },
    {
     "name": "stdout",
     "output_type": "stream",
     "text": [
      "Profit: 4000.0\n"
     ]
    }
   ],
   "source": [
    "#calculate profit or loss\n",
    "cp = float(input(\"Enter the cost price:\"))\n",
    "sp = float(input(\"Enter the selling price:\"))\n",
    "if sp > cp:\n",
    "    print(\"Profit:\", sp -cp)\n",
    "elif sp < cp:\n",
    "    print(\"Loss:\", cp -sp)\n",
    "else:\n",
    "    print(\"No profit No loss\")"
   ]
  },
  {
   "cell_type": "code",
   "execution_count": 18,
   "id": "1e6544e0-996c-4cf2-8d2f-c3a9c01a4a43",
   "metadata": {},
   "outputs": [
    {
     "name": "stdin",
     "output_type": "stream",
     "text": [
      "Enter marks: 56\n"
     ]
    },
    {
     "name": "stdout",
     "output_type": "stream",
     "text": [
      "Percentage: 56.00000000000001\n",
      "Grade: E\n"
     ]
    }
   ],
   "source": [
    "#calculate Student Percentage and Grade:\n",
    "marks = int(input(\"Enter marks:\"))\n",
    "percentage = (marks/100) * 100\n",
    "if percentage >= 90:\n",
    "    grade = \"A\"\n",
    "elif percentage >= 80:\n",
    "    grade = \"B\"\n",
    "elif percentage >= 70:\n",
    "    grade = \"C\"\n",
    "elif percentage >= 60:\n",
    "    grade = \"D\"\n",
    "elif percentage >= 50:\n",
    "    grade = \"E\"\n",
    "else:\n",
    "    grade = \"F\"\n",
    "print(\"Percentage:\", percentage)\n",
    "print(\"Grade:\", grade)"
   ]
  },
  {
   "cell_type": "code",
   "execution_count": 19,
   "id": "861ac51f-4e57-4dd3-95ab-0bb0eb319702",
   "metadata": {},
   "outputs": [
    {
     "name": "stdin",
     "output_type": "stream",
     "text": [
      "Enter years of service: 4\n"
     ]
    },
    {
     "name": "stdout",
     "output_type": "stream",
     "text": [
      "Bonus: 3000\n"
     ]
    }
   ],
   "source": [
    "#Employees Year of Service Salary Bonus:\n",
    "year = int(input(\"Enter years of service:\"))\n",
    "if year >= 5:\n",
    "    bonus = 5000\n",
    "elif year >= 3:\n",
    "    bonus = 3000\n",
    "else:\n",
    "    bonus = 1000\n",
    "print(\"Bonus:\", bonus)"
   ]
  },
  {
   "cell_type": "code",
   "execution_count": 20,
   "id": "b3e9bf6d-8abc-4105-b3b0-51044c96cf53",
   "metadata": {},
   "outputs": [
    {
     "name": "stdin",
     "output_type": "stream",
     "text": [
      "Enter marks:  73\n"
     ]
    },
    {
     "name": "stdout",
     "output_type": "stream",
     "text": [
      "Percentage: 73.0\n",
      "Division: First\n"
     ]
    }
   ],
   "source": [
    "#c4alculate Student Percentage and Print Division:\n",
    "marks = int(input(\"Enter marks: \"))\n",
    "percentage = (marks / 100) * 100\n",
    "if percentage >= 70:\n",
    "    division = \"First\"\n",
    "elif percentage >= 50:\n",
    "    division = \"Second\"\n",
    "elif percentage >= 30:\n",
    "    division = \"Third\"\n",
    "else:\n",
    "    division = \"Fail\"\n",
    "print(\"Percentage:\", percentage)\n",
    "print(\"Division:\", division)"
   ]
  },
  {
   "cell_type": "code",
   "execution_count": 21,
   "id": "538f912a-c7e4-42cd-975f-39f3f1da3dcf",
   "metadata": {},
   "outputs": [
    {
     "name": "stdin",
     "output_type": "stream",
     "text": [
      "Is driver married? (yes/no):  no\n",
      "Enter driver age:  22\n",
      "Enter driver gender (male/female):  female\n"
     ]
    },
    {
     "name": "stdout",
     "output_type": "stream",
     "text": [
      "Driver is not insured\n"
     ]
    }
   ],
   "source": [
    "#.Check Company Insures Drivers\n",
    "#A company insures its drivers in the following cases:\n",
    "#If the driver is married\n",
    "#If the driver is unmarried, male & above 30 years of age\n",
    "#If the driver is unmarried, female & above 25 years of age\n",
    "married = input(\"Is driver married? (yes/no): \")\n",
    "age = int(input(\"Enter driver age: \"))\n",
    "gender = input(\"Enter driver gender (male/female): \")\n",
    "if married == \"yes\" or (gender == \"male\" and age > 30) or (gender == \"female\" and age > 25):\n",
    "    print(\"Driver is insured\")\n",
    "else:\n",
    "    print(\"Driver is not insured\")"
   ]
  },
  {
   "cell_type": "code",
   "execution_count": 22,
   "id": "7ea2dd38-8e20-4c9b-9910-d67267722ed6",
   "metadata": {},
   "outputs": [
    {
     "name": "stdin",
     "output_type": "stream",
     "text": [
      "Enter electricity units:  132\n"
     ]
    },
    {
     "name": "stdout",
     "output_type": "stream",
     "text": [
      "Total bill: 74.0\n"
     ]
    }
   ],
   "source": [
    "#calculate total electricity bill \n",
    "units = int(input(\"Enter electricity units: \"))\n",
    "if units <= 100:\n",
    "    bill = units * 0.5\n",
    "elif units <= 200:\n",
    "    bill = 100 * 0.5 + (units - 100) * 0.75\n",
    "else:\n",
    "    bill = 100 * 0.5 + 100 * 0.75 + (units - 200) * 1.0\n",
    "print(\"Total bill:\", bill)"
   ]
  },
  {
   "cell_type": "code",
   "execution_count": 23,
   "id": "194f0d4a-4365-4f1e-ab72-cebea1483cc4",
   "metadata": {},
   "outputs": [
    {
     "name": "stdin",
     "output_type": "stream",
     "text": [
      "Enter side:  43\n"
     ]
    },
    {
     "name": "stdout",
     "output_type": "stream",
     "text": [
      "Area is greater\n"
     ]
    }
   ],
   "source": [
    "#which one is Greater (Area or Perimeter)\n",
    "side = int(input(\"Enter side: \"))\n",
    "area = side * side\n",
    "perimeter = 4 * side\n",
    "if area > perimeter:\n",
    "    print(\"Area is greater\")\n",
    "else:\n",
    "    print(\"Perimeter is greater\")"
   ]
  },
  {
   "cell_type": "code",
   "execution_count": 24,
   "id": "8ea980a4-8f0a-4495-a728-2917972888bb",
   "metadata": {},
   "outputs": [
    {
     "name": "stdout",
     "output_type": "stream",
     "text": [
      "Decreasing order\n"
     ]
    }
   ],
   "source": [
    "#numbers are in increasing or decreasing order\n",
    "def order(x,y,z):\n",
    "    if x<y<z:\n",
    "        print(\"Increasing order\")\n",
    "    elif x>y>z:\n",
    "        print(\"Decreasing order\")\n",
    "    else:\n",
    "        print(\"Not in order\")\n",
    "\n",
    "order(9,6,3)"
   ]
  },
  {
   "cell_type": "code",
   "execution_count": null,
   "id": "0318ba28-0996-4896-bc5f-d4e77d98984a",
   "metadata": {},
   "outputs": [],
   "source": []
  }
 ],
 "metadata": {
  "kernelspec": {
   "display_name": "Python 3 (ipykernel)",
   "language": "python",
   "name": "python3"
  },
  "language_info": {
   "codemirror_mode": {
    "name": "ipython",
    "version": 3
   },
   "file_extension": ".py",
   "mimetype": "text/x-python",
   "name": "python",
   "nbconvert_exporter": "python",
   "pygments_lexer": "ipython3",
   "version": "3.12.4"
  }
 },
 "nbformat": 4,
 "nbformat_minor": 5
}
